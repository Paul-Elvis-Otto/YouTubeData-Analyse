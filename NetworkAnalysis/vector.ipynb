{
 "cells": [
  {
   "cell_type": "markdown",
   "metadata": {},
   "source": [
    "# Netzwerk und Vektoren"
   ]
  },
  {
   "cell_type": "markdown",
   "metadata": {},
   "source": [
    "Diese Skript hat keinen wissenschatliches Fundament. \n",
    "Hier sollen vor allem methoden der darstellung der gesammlten Daten ausprobiert werden\n"
   ]
  },
  {
   "cell_type": "code",
   "execution_count": 4,
   "metadata": {},
   "outputs": [
    {
     "name": "stdout",
     "output_type": "stream",
     "text": [
      "Requirement already satisfied: numpy in /opt/homebrew/lib/python3.10/site-packages (1.23.5)\n",
      "\u001b[33mDEPRECATION: jupyter-server 2.0.0 has a non-standard dependency specifier jupyter-core!=~5.0,>=4.12. pip 24.0 will enforce this behaviour change. A possible replacement is to upgrade to a newer version of jupyter-server or contact the author to suggest that they release a version with a conforming dependency specifiers. Discussion can be found at https://github.com/pypa/pip/issues/12063\u001b[0m\u001b[33m\n",
      "\u001b[0mRequirement already satisfied: networkx in /opt/homebrew/lib/python3.10/site-packages (3.2.1)\n",
      "\u001b[33mDEPRECATION: jupyter-server 2.0.0 has a non-standard dependency specifier jupyter-core!=~5.0,>=4.12. pip 24.0 will enforce this behaviour change. A possible replacement is to upgrade to a newer version of jupyter-server or contact the author to suggest that they release a version with a conforming dependency specifiers. Discussion can be found at https://github.com/pypa/pip/issues/12063\u001b[0m\u001b[33m\n",
      "\u001b[0m"
     ]
    }
   ],
   "source": [
    "!pip install numpy\n",
    "!pip install networkx"
   ]
  },
  {
   "cell_type": "code",
   "execution_count": 2,
   "metadata": {},
   "outputs": [],
   "source": [
    "import numpy as np \n"
   ]
  },
  {
   "cell_type": "markdown",
   "metadata": {},
   "source": [
    "# Vektoren und Netzwerk darstellung\n",
    "\n"
   ]
  },
  {
   "cell_type": "code",
   "execution_count": 7,
   "metadata": {},
   "outputs": [],
   "source": [
    "import networkx as nx\n",
    "import pandas as pd\n",
    "import matplotlib.pyplot as plt "
   ]
  },
  {
   "cell_type": "code",
   "execution_count": 8,
   "metadata": {},
   "outputs": [
    {
     "name": "stdout",
     "output_type": "stream",
     "text": [
      "<module 'networkx' from '/opt/homebrew/lib/python3.10/site-packages/networkx/__init__.py'> <module 'pandas' from '/opt/homebrew/lib/python3.10/site-packages/pandas/__init__.py'> <module 'matplotlib.pyplot' from '/opt/homebrew/lib/python3.10/site-packages/matplotlib/pyplot.py'>\n"
     ]
    }
   ],
   "source": [
    "print(nx, pd, plt)"
   ]
  },
  {
   "cell_type": "code",
   "execution_count": 14,
   "metadata": {},
   "outputs": [],
   "source": [
    "SampleVideoData = pd.read_csv(\"/Users/paulotto/Developer/YouTubeData-Analyse/YouTubeData/sampleDataEdit.csv\")"
   ]
  },
  {
   "cell_type": "code",
   "execution_count": 15,
   "metadata": {},
   "outputs": [
    {
     "data": {
      "text/html": [
       "<div>\n",
       "<style scoped>\n",
       "    .dataframe tbody tr th:only-of-type {\n",
       "        vertical-align: middle;\n",
       "    }\n",
       "\n",
       "    .dataframe tbody tr th {\n",
       "        vertical-align: top;\n",
       "    }\n",
       "\n",
       "    .dataframe thead th {\n",
       "        text-align: right;\n",
       "    }\n",
       "</style>\n",
       "<table border=\"1\" class=\"dataframe\">\n",
       "  <thead>\n",
       "    <tr style=\"text-align: right;\">\n",
       "      <th></th>\n",
       "      <th>title</th>\n",
       "      <th>link</th>\n",
       "      <th>length in sec</th>\n",
       "      <th>views</th>\n",
       "      <th>publish-date</th>\n",
       "      <th>thumbnail-Url</th>\n",
       "    </tr>\n",
       "  </thead>\n",
       "  <tbody>\n",
       "    <tr>\n",
       "      <th>0</th>\n",
       "      <td>Typisch🚦: Auch im Verkehr völlig ideologiegetr...</td>\n",
       "      <td>https://www.youtube.com/watch?v=ZmIELW8dmhM</td>\n",
       "      <td>188</td>\n",
       "      <td>18690</td>\n",
       "      <td>2023-10-26</td>\n",
       "      <td>https://i.ytimg.com/vi/ZmIELW8dmhM/hq720.jpg</td>\n",
       "    </tr>\n",
       "    <tr>\n",
       "      <th>1</th>\n",
       "      <td>Lobbyismus-Industrie - Geldströme offenlegen u...</td>\n",
       "      <td>https://www.youtube.com/watch?v=dOPw3dZGi3E</td>\n",
       "      <td>196</td>\n",
       "      <td>9991</td>\n",
       "      <td>2023-10-26</td>\n",
       "      <td>https://i.ytimg.com/vi/dOPw3dZGi3E/hq720.jpg</td>\n",
       "    </tr>\n",
       "    <tr>\n",
       "      <th>2</th>\n",
       "      <td>Die Bürokratie in unserem Land ist unerträglic...</td>\n",
       "      <td>https://www.youtube.com/watch?v=R0TM5Y2toT0</td>\n",
       "      <td>218</td>\n",
       "      <td>5582</td>\n",
       "      <td>2023-10-26</td>\n",
       "      <td>https://i.ytimg.com/vi/R0TM5Y2toT0/hq720.jpg</td>\n",
       "    </tr>\n",
       "    <tr>\n",
       "      <th>3</th>\n",
       "      <td>💥💶Strompreis: An Doppelmoral ist das nicht meh...</td>\n",
       "      <td>https://www.youtube.com/watch?v=zPeGoXCHoMY</td>\n",
       "      <td>248</td>\n",
       "      <td>33952</td>\n",
       "      <td>2023-10-26</td>\n",
       "      <td>https://i.ytimg.com/vi/zPeGoXCHoMY/hq720.jpg</td>\n",
       "    </tr>\n",
       "    <tr>\n",
       "      <th>4</th>\n",
       "      <td>Deutschland moralisiert sich zu Tode! Jürgen B...</td>\n",
       "      <td>https://www.youtube.com/watch?v=svikkW9UK_g</td>\n",
       "      <td>256</td>\n",
       "      <td>38825</td>\n",
       "      <td>2023-10-25</td>\n",
       "      <td>https://i.ytimg.com/vi/svikkW9UK_g/hq720.jpg</td>\n",
       "    </tr>\n",
       "    <tr>\n",
       "      <th>...</th>\n",
       "      <td>...</td>\n",
       "      <td>...</td>\n",
       "      <td>...</td>\n",
       "      <td>...</td>\n",
       "      <td>...</td>\n",
       "      <td>...</td>\n",
       "    </tr>\n",
       "    <tr>\n",
       "      <th>83</th>\n",
       "      <td>Von wegen nachhaltig: Sie träumen eine Lebensl...</td>\n",
       "      <td>https://www.youtube.com/watch?v=-0JkT_LunoU</td>\n",
       "      <td>346</td>\n",
       "      <td>32438</td>\n",
       "      <td>2023-10-12</td>\n",
       "      <td>https://i.ytimg.com/vi/-0JkT_LunoU/hq720.jpg</td>\n",
       "    </tr>\n",
       "    <tr>\n",
       "      <th>84</th>\n",
       "      <td>Hamas auf unseren Straßen: Dieser Islam gehört...</td>\n",
       "      <td>https://www.youtube.com/watch?v=AIOZVoEkh_c</td>\n",
       "      <td>220</td>\n",
       "      <td>52031</td>\n",
       "      <td>2023-10-12</td>\n",
       "      <td>https://i.ytimg.com/vi/AIOZVoEkh_c/hq720.jpg</td>\n",
       "    </tr>\n",
       "    <tr>\n",
       "      <th>85</th>\n",
       "      <td>Hamas-Terror: Matthias Moosdorf kritisiert die...</td>\n",
       "      <td>https://www.youtube.com/watch?v=fuiDd7yPkMM</td>\n",
       "      <td>216</td>\n",
       "      <td>188456</td>\n",
       "      <td>2023-10-12</td>\n",
       "      <td>https://i.ytimg.com/vi/fuiDd7yPkMM/hq720.jpg</td>\n",
       "    </tr>\n",
       "    <tr>\n",
       "      <th>86</th>\n",
       "      <td>Alexander Gauland zur Lage im Nahen Osten! - A...</td>\n",
       "      <td>https://www.youtube.com/watch?v=HjAlsENa1LI</td>\n",
       "      <td>284</td>\n",
       "      <td>252833</td>\n",
       "      <td>2023-10-12</td>\n",
       "      <td>https://i.ytimg.com/vi/HjAlsENa1LI/hq720.jpg</td>\n",
       "    </tr>\n",
       "    <tr>\n",
       "      <th>87</th>\n",
       "      <td>Beatrix von Storch über die Folgen der verfehl...</td>\n",
       "      <td>https://www.youtube.com/watch?v=DfGNRzKD_3Q</td>\n",
       "      <td>312</td>\n",
       "      <td>195646</td>\n",
       "      <td>2023-10-11</td>\n",
       "      <td>https://i.ytimg.com/vi/DfGNRzKD_3Q/hq720.jpg</td>\n",
       "    </tr>\n",
       "  </tbody>\n",
       "</table>\n",
       "<p>88 rows × 6 columns</p>\n",
       "</div>"
      ],
      "text/plain": [
       "                                                title  \\\n",
       "0   Typisch🚦: Auch im Verkehr völlig ideologiegetr...   \n",
       "1   Lobbyismus-Industrie - Geldströme offenlegen u...   \n",
       "2   Die Bürokratie in unserem Land ist unerträglic...   \n",
       "3   💥💶Strompreis: An Doppelmoral ist das nicht meh...   \n",
       "4   Deutschland moralisiert sich zu Tode! Jürgen B...   \n",
       "..                                                ...   \n",
       "83  Von wegen nachhaltig: Sie träumen eine Lebensl...   \n",
       "84  Hamas auf unseren Straßen: Dieser Islam gehört...   \n",
       "85  Hamas-Terror: Matthias Moosdorf kritisiert die...   \n",
       "86  Alexander Gauland zur Lage im Nahen Osten! - A...   \n",
       "87  Beatrix von Storch über die Folgen der verfehl...   \n",
       "\n",
       "                                           link  length in sec   views  \\\n",
       "0   https://www.youtube.com/watch?v=ZmIELW8dmhM            188   18690   \n",
       "1   https://www.youtube.com/watch?v=dOPw3dZGi3E            196    9991   \n",
       "2   https://www.youtube.com/watch?v=R0TM5Y2toT0            218    5582   \n",
       "3   https://www.youtube.com/watch?v=zPeGoXCHoMY            248   33952   \n",
       "4   https://www.youtube.com/watch?v=svikkW9UK_g            256   38825   \n",
       "..                                          ...            ...     ...   \n",
       "83  https://www.youtube.com/watch?v=-0JkT_LunoU            346   32438   \n",
       "84  https://www.youtube.com/watch?v=AIOZVoEkh_c            220   52031   \n",
       "85  https://www.youtube.com/watch?v=fuiDd7yPkMM            216  188456   \n",
       "86  https://www.youtube.com/watch?v=HjAlsENa1LI            284  252833   \n",
       "87  https://www.youtube.com/watch?v=DfGNRzKD_3Q            312  195646   \n",
       "\n",
       "   publish-date                                 thumbnail-Url  \n",
       "0    2023-10-26  https://i.ytimg.com/vi/ZmIELW8dmhM/hq720.jpg  \n",
       "1    2023-10-26  https://i.ytimg.com/vi/dOPw3dZGi3E/hq720.jpg  \n",
       "2    2023-10-26  https://i.ytimg.com/vi/R0TM5Y2toT0/hq720.jpg  \n",
       "3    2023-10-26  https://i.ytimg.com/vi/zPeGoXCHoMY/hq720.jpg  \n",
       "4    2023-10-25  https://i.ytimg.com/vi/svikkW9UK_g/hq720.jpg  \n",
       "..          ...                                           ...  \n",
       "83   2023-10-12  https://i.ytimg.com/vi/-0JkT_LunoU/hq720.jpg  \n",
       "84   2023-10-12  https://i.ytimg.com/vi/AIOZVoEkh_c/hq720.jpg  \n",
       "85   2023-10-12  https://i.ytimg.com/vi/fuiDd7yPkMM/hq720.jpg  \n",
       "86   2023-10-12  https://i.ytimg.com/vi/HjAlsENa1LI/hq720.jpg  \n",
       "87   2023-10-11  https://i.ytimg.com/vi/DfGNRzKD_3Q/hq720.jpg  \n",
       "\n",
       "[88 rows x 6 columns]"
      ]
     },
     "execution_count": 15,
     "metadata": {},
     "output_type": "execute_result"
    }
   ],
   "source": [
    "SampleVideoData"
   ]
  },
  {
   "cell_type": "code",
   "execution_count": 19,
   "metadata": {},
   "outputs": [],
   "source": [
    "SampleVideoData_Vektor = SampleVideoData.drop([\"link\", \"publish-date\",\"thumbnail-Url\"], axis=1)"
   ]
  },
  {
   "cell_type": "code",
   "execution_count": 20,
   "metadata": {},
   "outputs": [
    {
     "data": {
      "text/html": [
       "<div>\n",
       "<style scoped>\n",
       "    .dataframe tbody tr th:only-of-type {\n",
       "        vertical-align: middle;\n",
       "    }\n",
       "\n",
       "    .dataframe tbody tr th {\n",
       "        vertical-align: top;\n",
       "    }\n",
       "\n",
       "    .dataframe thead th {\n",
       "        text-align: right;\n",
       "    }\n",
       "</style>\n",
       "<table border=\"1\" class=\"dataframe\">\n",
       "  <thead>\n",
       "    <tr style=\"text-align: right;\">\n",
       "      <th></th>\n",
       "      <th>title</th>\n",
       "      <th>length in sec</th>\n",
       "      <th>views</th>\n",
       "    </tr>\n",
       "  </thead>\n",
       "  <tbody>\n",
       "    <tr>\n",
       "      <th>0</th>\n",
       "      <td>Typisch🚦: Auch im Verkehr völlig ideologiegetr...</td>\n",
       "      <td>188</td>\n",
       "      <td>18690</td>\n",
       "    </tr>\n",
       "    <tr>\n",
       "      <th>1</th>\n",
       "      <td>Lobbyismus-Industrie - Geldströme offenlegen u...</td>\n",
       "      <td>196</td>\n",
       "      <td>9991</td>\n",
       "    </tr>\n",
       "    <tr>\n",
       "      <th>2</th>\n",
       "      <td>Die Bürokratie in unserem Land ist unerträglic...</td>\n",
       "      <td>218</td>\n",
       "      <td>5582</td>\n",
       "    </tr>\n",
       "    <tr>\n",
       "      <th>3</th>\n",
       "      <td>💥💶Strompreis: An Doppelmoral ist das nicht meh...</td>\n",
       "      <td>248</td>\n",
       "      <td>33952</td>\n",
       "    </tr>\n",
       "    <tr>\n",
       "      <th>4</th>\n",
       "      <td>Deutschland moralisiert sich zu Tode! Jürgen B...</td>\n",
       "      <td>256</td>\n",
       "      <td>38825</td>\n",
       "    </tr>\n",
       "    <tr>\n",
       "      <th>...</th>\n",
       "      <td>...</td>\n",
       "      <td>...</td>\n",
       "      <td>...</td>\n",
       "    </tr>\n",
       "    <tr>\n",
       "      <th>83</th>\n",
       "      <td>Von wegen nachhaltig: Sie träumen eine Lebensl...</td>\n",
       "      <td>346</td>\n",
       "      <td>32438</td>\n",
       "    </tr>\n",
       "    <tr>\n",
       "      <th>84</th>\n",
       "      <td>Hamas auf unseren Straßen: Dieser Islam gehört...</td>\n",
       "      <td>220</td>\n",
       "      <td>52031</td>\n",
       "    </tr>\n",
       "    <tr>\n",
       "      <th>85</th>\n",
       "      <td>Hamas-Terror: Matthias Moosdorf kritisiert die...</td>\n",
       "      <td>216</td>\n",
       "      <td>188456</td>\n",
       "    </tr>\n",
       "    <tr>\n",
       "      <th>86</th>\n",
       "      <td>Alexander Gauland zur Lage im Nahen Osten! - A...</td>\n",
       "      <td>284</td>\n",
       "      <td>252833</td>\n",
       "    </tr>\n",
       "    <tr>\n",
       "      <th>87</th>\n",
       "      <td>Beatrix von Storch über die Folgen der verfehl...</td>\n",
       "      <td>312</td>\n",
       "      <td>195646</td>\n",
       "    </tr>\n",
       "  </tbody>\n",
       "</table>\n",
       "<p>88 rows × 3 columns</p>\n",
       "</div>"
      ],
      "text/plain": [
       "                                                title  length in sec   views\n",
       "0   Typisch🚦: Auch im Verkehr völlig ideologiegetr...            188   18690\n",
       "1   Lobbyismus-Industrie - Geldströme offenlegen u...            196    9991\n",
       "2   Die Bürokratie in unserem Land ist unerträglic...            218    5582\n",
       "3   💥💶Strompreis: An Doppelmoral ist das nicht meh...            248   33952\n",
       "4   Deutschland moralisiert sich zu Tode! Jürgen B...            256   38825\n",
       "..                                                ...            ...     ...\n",
       "83  Von wegen nachhaltig: Sie träumen eine Lebensl...            346   32438\n",
       "84  Hamas auf unseren Straßen: Dieser Islam gehört...            220   52031\n",
       "85  Hamas-Terror: Matthias Moosdorf kritisiert die...            216  188456\n",
       "86  Alexander Gauland zur Lage im Nahen Osten! - A...            284  252833\n",
       "87  Beatrix von Storch über die Folgen der verfehl...            312  195646\n",
       "\n",
       "[88 rows x 3 columns]"
      ]
     },
     "execution_count": 20,
     "metadata": {},
     "output_type": "execute_result"
    }
   ],
   "source": [
    "SampleVideoData_Vektor"
   ]
  },
  {
   "cell_type": "code",
   "execution_count": null,
   "metadata": {},
   "outputs": [],
   "source": []
  }
 ],
 "metadata": {
  "kernelspec": {
   "display_name": "Python 3",
   "language": "python",
   "name": "python3"
  },
  "language_info": {
   "codemirror_mode": {
    "name": "ipython",
    "version": 3
   },
   "file_extension": ".py",
   "mimetype": "text/x-python",
   "name": "python",
   "nbconvert_exporter": "python",
   "pygments_lexer": "ipython3",
   "version": "3.10.13"
  }
 },
 "nbformat": 4,
 "nbformat_minor": 2
}
